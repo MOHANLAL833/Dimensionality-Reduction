{
 "cells": [
  {
   "cell_type": "code",
   "execution_count": 1,
   "id": "442e4343-d585-4abe-941a-cd5e458afc03",
   "metadata": {},
   "outputs": [],
   "source": [
    "import pickle"
   ]
  },
  {
   "cell_type": "code",
   "execution_count": 2,
   "id": "675f0692-c3eb-4801-93e3-ea528c36e48b",
   "metadata": {},
   "outputs": [],
   "source": [
    "sc = pickle.load(open('sc.pkl','rb'))"
   ]
  },
  {
   "cell_type": "code",
   "execution_count": 3,
   "id": "06488d13-5d1b-450e-9a96-68a6175cd3de",
   "metadata": {},
   "outputs": [],
   "source": [
    "lda = pickle.load(open('lda.pkl','rb')                 )"
   ]
  },
  {
   "cell_type": "code",
   "execution_count": 4,
   "id": "6bd9ec62-fd0c-4243-879b-03f93a2b3d36",
   "metadata": {},
   "outputs": [],
   "source": [
    "User_input = ([[14.3,1.71,2.14,15.6,127,2.80,3.06,0.28,2.29,5.64,1.04,3.92,1050]])"
   ]
  },
  {
   "cell_type": "code",
   "execution_count": 5,
   "id": "cbd3904e-1005-47fe-8ee1-4b85c2c2f233",
   "metadata": {},
   "outputs": [
    {
     "data": {
      "text/plain": [
       "array([[ 1.63508058, -0.59617626, -0.84433927, -1.15290415,  1.89709249,\n",
       "         0.88811832,  1.14228219, -0.65631245,  1.16092829,  0.25075241,\n",
       "         0.37819941,  1.85216556,  1.01637071]])"
      ]
     },
     "execution_count": 5,
     "metadata": {},
     "output_type": "execute_result"
    }
   ],
   "source": [
    "\n",
    "scaled_input = sc.transform(User_input)\n",
    "scaled_input"
   ]
  },
  {
   "cell_type": "code",
   "execution_count": 6,
   "id": "2f1976ea-8ce3-473c-908e-e7bf79e4b655",
   "metadata": {},
   "outputs": [
    {
     "data": {
      "text/plain": [
       "array([[-5.26244343]])"
      ]
     },
     "execution_count": 6,
     "metadata": {},
     "output_type": "execute_result"
    }
   ],
   "source": [
    "lda_input = lda.transform(scaled_input)\n",
    "lda_input"
   ]
  },
  {
   "cell_type": "code",
   "execution_count": 7,
   "id": "4a1db052-b447-4f92-9201-0b2db59d5b30",
   "metadata": {},
   "outputs": [],
   "source": [
    "loaded_model = pickle.load(open('Finalized_Decisiontree_Model.sav','rb'))\n",
    "Prediction = loaded_model.predict(lda_input)"
   ]
  },
  {
   "cell_type": "code",
   "execution_count": 8,
   "id": "f19d5980-46c0-4fb9-98eb-a50a0ce2ae09",
   "metadata": {},
   "outputs": [
    {
     "data": {
      "text/plain": [
       "array([1], dtype=int64)"
      ]
     },
     "execution_count": 8,
     "metadata": {},
     "output_type": "execute_result"
    }
   ],
   "source": [
    "Prediction"
   ]
  }
 ],
 "metadata": {
  "kernelspec": {
   "display_name": "Python 3 (ipykernel)",
   "language": "python",
   "name": "python3"
  },
  "language_info": {
   "codemirror_mode": {
    "name": "ipython",
    "version": 3
   },
   "file_extension": ".py",
   "mimetype": "text/x-python",
   "name": "python",
   "nbconvert_exporter": "python",
   "pygments_lexer": "ipython3",
   "version": "3.7.1"
  }
 },
 "nbformat": 4,
 "nbformat_minor": 5
}
