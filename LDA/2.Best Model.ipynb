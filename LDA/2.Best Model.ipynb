{
 "cells": [
  {
   "cell_type": "code",
   "execution_count": 1,
   "id": "f6d191af-6578-4663-b773-39eec4bda1e5",
   "metadata": {},
   "outputs": [],
   "source": [
    "import pandas as pd\n",
    "import numpy as np\n",
    "import pickle\n",
    "from sklearn.model_selection import train_test_split\n",
    "from sklearn.preprocessing import StandardScaler\n",
    "from sklearn.metrics import confusion_matrix\n",
    "from sklearn.metrics import accuracy_score\n",
    "from sklearn.metrics import classification_report\n",
    "from sklearn.discriminant_analysis import LinearDiscriminantAnalysis\n",
    "from sklearn.tree import DecisionTreeClassifier"
   ]
  },
  {
   "cell_type": "code",
   "execution_count": 2,
   "id": "adcdc7a4-e09d-48c1-9856-b51f2228664c",
   "metadata": {},
   "outputs": [
    {
     "data": {
      "text/html": [
       "<div>\n",
       "<style scoped>\n",
       "    .dataframe tbody tr th:only-of-type {\n",
       "        vertical-align: middle;\n",
       "    }\n",
       "\n",
       "    .dataframe tbody tr th {\n",
       "        vertical-align: top;\n",
       "    }\n",
       "\n",
       "    .dataframe thead th {\n",
       "        text-align: right;\n",
       "    }\n",
       "</style>\n",
       "<table border=\"1\" class=\"dataframe\">\n",
       "  <thead>\n",
       "    <tr style=\"text-align: right;\">\n",
       "      <th></th>\n",
       "      <th>Alcohol</th>\n",
       "      <th>Malic_Acid</th>\n",
       "      <th>Ash</th>\n",
       "      <th>Ash_Alcanity</th>\n",
       "      <th>Magnesium</th>\n",
       "      <th>Total_Phenols</th>\n",
       "      <th>Flavanoids</th>\n",
       "      <th>Nonflavanoid_Phenols</th>\n",
       "      <th>Proanthocyanins</th>\n",
       "      <th>Color_Intensity</th>\n",
       "      <th>Hue</th>\n",
       "      <th>OD280</th>\n",
       "      <th>Proline</th>\n",
       "      <th>Customer_Segment</th>\n",
       "    </tr>\n",
       "  </thead>\n",
       "  <tbody>\n",
       "    <tr>\n",
       "      <th>0</th>\n",
       "      <td>14.23</td>\n",
       "      <td>1.71</td>\n",
       "      <td>2.43</td>\n",
       "      <td>15.6</td>\n",
       "      <td>127</td>\n",
       "      <td>2.80</td>\n",
       "      <td>3.06</td>\n",
       "      <td>0.28</td>\n",
       "      <td>2.29</td>\n",
       "      <td>5.64</td>\n",
       "      <td>1.04</td>\n",
       "      <td>3.92</td>\n",
       "      <td>1065</td>\n",
       "      <td>1</td>\n",
       "    </tr>\n",
       "    <tr>\n",
       "      <th>1</th>\n",
       "      <td>13.20</td>\n",
       "      <td>1.78</td>\n",
       "      <td>2.14</td>\n",
       "      <td>11.2</td>\n",
       "      <td>100</td>\n",
       "      <td>2.65</td>\n",
       "      <td>2.76</td>\n",
       "      <td>0.26</td>\n",
       "      <td>1.28</td>\n",
       "      <td>4.38</td>\n",
       "      <td>1.05</td>\n",
       "      <td>3.40</td>\n",
       "      <td>1050</td>\n",
       "      <td>1</td>\n",
       "    </tr>\n",
       "    <tr>\n",
       "      <th>2</th>\n",
       "      <td>13.16</td>\n",
       "      <td>2.36</td>\n",
       "      <td>2.67</td>\n",
       "      <td>18.6</td>\n",
       "      <td>101</td>\n",
       "      <td>2.80</td>\n",
       "      <td>3.24</td>\n",
       "      <td>0.30</td>\n",
       "      <td>2.81</td>\n",
       "      <td>5.68</td>\n",
       "      <td>1.03</td>\n",
       "      <td>3.17</td>\n",
       "      <td>1185</td>\n",
       "      <td>1</td>\n",
       "    </tr>\n",
       "    <tr>\n",
       "      <th>3</th>\n",
       "      <td>14.37</td>\n",
       "      <td>1.95</td>\n",
       "      <td>2.50</td>\n",
       "      <td>16.8</td>\n",
       "      <td>113</td>\n",
       "      <td>3.85</td>\n",
       "      <td>3.49</td>\n",
       "      <td>0.24</td>\n",
       "      <td>2.18</td>\n",
       "      <td>7.80</td>\n",
       "      <td>0.86</td>\n",
       "      <td>3.45</td>\n",
       "      <td>1480</td>\n",
       "      <td>1</td>\n",
       "    </tr>\n",
       "    <tr>\n",
       "      <th>4</th>\n",
       "      <td>13.24</td>\n",
       "      <td>2.59</td>\n",
       "      <td>2.87</td>\n",
       "      <td>21.0</td>\n",
       "      <td>118</td>\n",
       "      <td>2.80</td>\n",
       "      <td>2.69</td>\n",
       "      <td>0.39</td>\n",
       "      <td>1.82</td>\n",
       "      <td>4.32</td>\n",
       "      <td>1.04</td>\n",
       "      <td>2.93</td>\n",
       "      <td>735</td>\n",
       "      <td>1</td>\n",
       "    </tr>\n",
       "    <tr>\n",
       "      <th>...</th>\n",
       "      <td>...</td>\n",
       "      <td>...</td>\n",
       "      <td>...</td>\n",
       "      <td>...</td>\n",
       "      <td>...</td>\n",
       "      <td>...</td>\n",
       "      <td>...</td>\n",
       "      <td>...</td>\n",
       "      <td>...</td>\n",
       "      <td>...</td>\n",
       "      <td>...</td>\n",
       "      <td>...</td>\n",
       "      <td>...</td>\n",
       "      <td>...</td>\n",
       "    </tr>\n",
       "    <tr>\n",
       "      <th>173</th>\n",
       "      <td>13.71</td>\n",
       "      <td>5.65</td>\n",
       "      <td>2.45</td>\n",
       "      <td>20.5</td>\n",
       "      <td>95</td>\n",
       "      <td>1.68</td>\n",
       "      <td>0.61</td>\n",
       "      <td>0.52</td>\n",
       "      <td>1.06</td>\n",
       "      <td>7.70</td>\n",
       "      <td>0.64</td>\n",
       "      <td>1.74</td>\n",
       "      <td>740</td>\n",
       "      <td>3</td>\n",
       "    </tr>\n",
       "    <tr>\n",
       "      <th>174</th>\n",
       "      <td>13.40</td>\n",
       "      <td>3.91</td>\n",
       "      <td>2.48</td>\n",
       "      <td>23.0</td>\n",
       "      <td>102</td>\n",
       "      <td>1.80</td>\n",
       "      <td>0.75</td>\n",
       "      <td>0.43</td>\n",
       "      <td>1.41</td>\n",
       "      <td>7.30</td>\n",
       "      <td>0.70</td>\n",
       "      <td>1.56</td>\n",
       "      <td>750</td>\n",
       "      <td>3</td>\n",
       "    </tr>\n",
       "    <tr>\n",
       "      <th>175</th>\n",
       "      <td>13.27</td>\n",
       "      <td>4.28</td>\n",
       "      <td>2.26</td>\n",
       "      <td>20.0</td>\n",
       "      <td>120</td>\n",
       "      <td>1.59</td>\n",
       "      <td>0.69</td>\n",
       "      <td>0.43</td>\n",
       "      <td>1.35</td>\n",
       "      <td>10.20</td>\n",
       "      <td>0.59</td>\n",
       "      <td>1.56</td>\n",
       "      <td>835</td>\n",
       "      <td>3</td>\n",
       "    </tr>\n",
       "    <tr>\n",
       "      <th>176</th>\n",
       "      <td>13.17</td>\n",
       "      <td>2.59</td>\n",
       "      <td>2.37</td>\n",
       "      <td>20.0</td>\n",
       "      <td>120</td>\n",
       "      <td>1.65</td>\n",
       "      <td>0.68</td>\n",
       "      <td>0.53</td>\n",
       "      <td>1.46</td>\n",
       "      <td>9.30</td>\n",
       "      <td>0.60</td>\n",
       "      <td>1.62</td>\n",
       "      <td>840</td>\n",
       "      <td>3</td>\n",
       "    </tr>\n",
       "    <tr>\n",
       "      <th>177</th>\n",
       "      <td>14.13</td>\n",
       "      <td>4.10</td>\n",
       "      <td>2.74</td>\n",
       "      <td>24.5</td>\n",
       "      <td>96</td>\n",
       "      <td>2.05</td>\n",
       "      <td>0.76</td>\n",
       "      <td>0.56</td>\n",
       "      <td>1.35</td>\n",
       "      <td>9.20</td>\n",
       "      <td>0.61</td>\n",
       "      <td>1.60</td>\n",
       "      <td>560</td>\n",
       "      <td>3</td>\n",
       "    </tr>\n",
       "  </tbody>\n",
       "</table>\n",
       "<p>178 rows × 14 columns</p>\n",
       "</div>"
      ],
      "text/plain": [
       "     Alcohol  Malic_Acid   Ash  Ash_Alcanity  Magnesium  Total_Phenols  \\\n",
       "0      14.23        1.71  2.43          15.6        127           2.80   \n",
       "1      13.20        1.78  2.14          11.2        100           2.65   \n",
       "2      13.16        2.36  2.67          18.6        101           2.80   \n",
       "3      14.37        1.95  2.50          16.8        113           3.85   \n",
       "4      13.24        2.59  2.87          21.0        118           2.80   \n",
       "..       ...         ...   ...           ...        ...            ...   \n",
       "173    13.71        5.65  2.45          20.5         95           1.68   \n",
       "174    13.40        3.91  2.48          23.0        102           1.80   \n",
       "175    13.27        4.28  2.26          20.0        120           1.59   \n",
       "176    13.17        2.59  2.37          20.0        120           1.65   \n",
       "177    14.13        4.10  2.74          24.5         96           2.05   \n",
       "\n",
       "     Flavanoids  Nonflavanoid_Phenols  Proanthocyanins  Color_Intensity   Hue  \\\n",
       "0          3.06                  0.28             2.29             5.64  1.04   \n",
       "1          2.76                  0.26             1.28             4.38  1.05   \n",
       "2          3.24                  0.30             2.81             5.68  1.03   \n",
       "3          3.49                  0.24             2.18             7.80  0.86   \n",
       "4          2.69                  0.39             1.82             4.32  1.04   \n",
       "..          ...                   ...              ...              ...   ...   \n",
       "173        0.61                  0.52             1.06             7.70  0.64   \n",
       "174        0.75                  0.43             1.41             7.30  0.70   \n",
       "175        0.69                  0.43             1.35            10.20  0.59   \n",
       "176        0.68                  0.53             1.46             9.30  0.60   \n",
       "177        0.76                  0.56             1.35             9.20  0.61   \n",
       "\n",
       "     OD280  Proline  Customer_Segment  \n",
       "0     3.92     1065                 1  \n",
       "1     3.40     1050                 1  \n",
       "2     3.17     1185                 1  \n",
       "3     3.45     1480                 1  \n",
       "4     2.93      735                 1  \n",
       "..     ...      ...               ...  \n",
       "173   1.74      740                 3  \n",
       "174   1.56      750                 3  \n",
       "175   1.56      835                 3  \n",
       "176   1.62      840                 3  \n",
       "177   1.60      560                 3  \n",
       "\n",
       "[178 rows x 14 columns]"
      ]
     },
     "execution_count": 2,
     "metadata": {},
     "output_type": "execute_result"
    }
   ],
   "source": [
    "dataset1=pd.read_csv(\"wine.csv\",index_col=None)\n",
    "df=dataset1\n",
    "df = pd.get_dummies(df, drop_first=True)\n",
    "df"
   ]
  },
  {
   "cell_type": "code",
   "execution_count": 3,
   "id": "3bf70779-d230-45d3-a379-03c56ad381ac",
   "metadata": {},
   "outputs": [],
   "source": [
    "indep_x=df.iloc[:,0:13].values\n",
    "dep_y=df.iloc[:,13].values"
   ]
  },
  {
   "cell_type": "code",
   "execution_count": 4,
   "id": "22c49efb-d5cc-490b-857b-06ebee582aa5",
   "metadata": {},
   "outputs": [],
   "source": [
    "def lda(x_train,y_train,x_test, n):\n",
    "    lda = LinearDiscriminantAnalysis(n_components=n)\n",
    "    x_train_lda = lda.fit_transform(x_train, y_train)\n",
    "    x_test_lda = lda.transform(x_test)\n",
    "    return x_train_lda,x_test_lda,lda"
   ]
  },
  {
   "cell_type": "code",
   "execution_count": 5,
   "id": "734aaff6-783c-4d85-9130-bf9ca65938fd",
   "metadata": {},
   "outputs": [],
   "source": [
    "def split_scaler(indep_x,dep_y):\n",
    "    x_train,x_test,y_train,y_test = train_test_split(indep_x,dep_y,test_size=0.2,random_state=0)\n",
    "    sc = StandardScaler()\n",
    "    x_train = sc.fit_transform(x_train)\n",
    "    x_test = sc.transform(x_test)\n",
    "    return x_train,x_test,y_train,y_test,sc\n",
    "\n",
    "def cm_prediction(classifier,x_test_lda,y_test):\n",
    "    y_pred = classifier.predict(x_test_lda)\n",
    "\n",
    "    cm = confusion_matrix(y_test,y_pred)\n",
    "    accuracy = accuracy_score(y_test,y_pred)\n",
    "    report = classification_report(y_test,y_pred)\n",
    "    return classifier,accuracy\n",
    "\n",
    "def decision(x_train,y_train,x_test,y_test):\n",
    "    classifier = DecisionTreeClassifier(criterion = 'entropy', random_state=0)\n",
    "    classifier.fit(x_train,y_train)\n",
    "    return cm_prediction(classifier,x_test,y_test)"
   ]
  },
  {
   "cell_type": "code",
   "execution_count": 6,
   "id": "1b2f1b3f-1b33-496c-991c-b01dfb9bea1b",
   "metadata": {},
   "outputs": [],
   "source": [
    "def LDA_classification(acclog):\n",
    "    LDAdataframe = pd.DataFrame(index = ['LDA'], columns = ['decision'])\n",
    "    LDAdataframe['decision'] = accdec\n",
    "    return LDAdataframe    \n",
    "\n",
    "accdec = []"
   ]
  },
  {
   "cell_type": "code",
   "execution_count": 7,
   "id": "c4885375-8308-4a1e-9c71-4b82a915f12e",
   "metadata": {},
   "outputs": [],
   "source": [
    "x_train,x_test,y_train,y_test,sc = split_scaler(indep_x,dep_y)"
   ]
  },
  {
   "cell_type": "code",
   "execution_count": 8,
   "id": "2871a10c-15cd-40a0-ad03-846d54515e3b",
   "metadata": {},
   "outputs": [],
   "source": [
    "x_train_lda, x_test_lda, lda = lda(x_train,y_train,x_test, 1)\n",
    "\n",
    "accdec=[]"
   ]
  },
  {
   "cell_type": "code",
   "execution_count": 9,
   "id": "f11bbffa-1b87-4db2-a7f3-6a1c719f210a",
   "metadata": {},
   "outputs": [
    {
     "data": {
      "text/plain": [
       "array([[ 3.57315552],\n",
       "       [ 0.85475898],\n",
       "       [ 0.62173655],\n",
       "       [ 4.80786412],\n",
       "       [-3.8579759 ],\n",
       "       [-3.59455458],\n",
       "       [-0.53772906],\n",
       "       [ 0.04058577],\n",
       "       [ 0.99835348],\n",
       "       [-3.74095658],\n",
       "       [ 3.76035226],\n",
       "       [-0.15106412],\n",
       "       [ 3.62762899],\n",
       "       [-3.94229781],\n",
       "       [ 3.33429017],\n",
       "       [ 3.90206871],\n",
       "       [-3.55835472],\n",
       "       [ 5.63175281],\n",
       "       [-5.56217254],\n",
       "       [ 0.23296188],\n",
       "       [ 5.03141997],\n",
       "       [ 3.52861651],\n",
       "       [-1.17815662],\n",
       "       [ 3.58320131],\n",
       "       [ 5.21649905],\n",
       "       [-3.01647841],\n",
       "       [ 1.86178658],\n",
       "       [ 3.93816398],\n",
       "       [-1.0836235 ],\n",
       "       [ 1.8691488 ],\n",
       "       [ 3.27717205],\n",
       "       [-0.47842302],\n",
       "       [-4.14433134],\n",
       "       [ 2.45009727],\n",
       "       [-1.20844631],\n",
       "       [ 2.55631466],\n",
       "       [-1.6091476 ],\n",
       "       [-5.52462148],\n",
       "       [-2.44685583],\n",
       "       [-1.95474568],\n",
       "       [ 5.54394234],\n",
       "       [ 5.74409562],\n",
       "       [ 1.13553056],\n",
       "       [-1.2483554 ],\n",
       "       [-0.00961488],\n",
       "       [ 5.21418108],\n",
       "       [ 4.2290474 ],\n",
       "       [-3.94237521],\n",
       "       [ 5.30822458],\n",
       "       [-0.20862902],\n",
       "       [ 0.47295413],\n",
       "       [ 0.46692465],\n",
       "       [-1.05818513],\n",
       "       [ 0.33551985],\n",
       "       [-4.74777848],\n",
       "       [-2.80968166],\n",
       "       [-1.02804047],\n",
       "       [-6.15432728],\n",
       "       [ 4.33944259],\n",
       "       [-3.63172128],\n",
       "       [ 4.79575236],\n",
       "       [-4.13914056],\n",
       "       [-3.94468876],\n",
       "       [-0.42472714],\n",
       "       [-5.17777666],\n",
       "       [-1.3044572 ],\n",
       "       [ 0.06991014],\n",
       "       [-4.98245326],\n",
       "       [ 4.3064623 ],\n",
       "       [ 0.29208614],\n",
       "       [-5.0934408 ],\n",
       "       [ 0.61101399],\n",
       "       [ 1.12081287],\n",
       "       [-0.77339273],\n",
       "       [ 2.57603424],\n",
       "       [-4.29104423],\n",
       "       [ 5.255722  ],\n",
       "       [ 5.7318737 ],\n",
       "       [-6.24884704],\n",
       "       [-5.38587866],\n",
       "       [ 1.31025756],\n",
       "       [ 5.00526015],\n",
       "       [-4.31499585],\n",
       "       [-3.92894005],\n",
       "       [-0.05838671],\n",
       "       [-0.42566332],\n",
       "       [-3.5253992 ],\n",
       "       [-4.42913323],\n",
       "       [-2.85063973],\n",
       "       [ 4.46460374],\n",
       "       [-1.21751159],\n",
       "       [-4.94290391],\n",
       "       [-1.70880192],\n",
       "       [ 3.42314438],\n",
       "       [-5.58393165],\n",
       "       [-0.71859407],\n",
       "       [ 4.01611408],\n",
       "       [ 4.64009352],\n",
       "       [-3.85066489],\n",
       "       [-3.47123425],\n",
       "       [ 4.17391188],\n",
       "       [-4.09941682],\n",
       "       [ 4.29592104],\n",
       "       [-0.15570245],\n",
       "       [-3.29789207],\n",
       "       [-4.0655232 ],\n",
       "       [-0.63468603],\n",
       "       [-4.4641561 ],\n",
       "       [ 4.52246935],\n",
       "       [ 0.79712615],\n",
       "       [ 4.91056287],\n",
       "       [-3.77150311],\n",
       "       [ 3.5444653 ],\n",
       "       [ 4.36398757],\n",
       "       [ 4.86008035],\n",
       "       [-3.46481941],\n",
       "       [-1.65664035],\n",
       "       [ 0.26593072],\n",
       "       [-0.66345544],\n",
       "       [-0.33965319],\n",
       "       [ 5.14221842],\n",
       "       [ 5.75746454],\n",
       "       [ 0.42253477],\n",
       "       [ 0.96267148],\n",
       "       [-2.5640305 ],\n",
       "       [-2.30398129],\n",
       "       [ 4.91741587],\n",
       "       [ 5.20879938],\n",
       "       [-3.60895143],\n",
       "       [-4.58647662],\n",
       "       [ 2.89493473],\n",
       "       [-0.09551518],\n",
       "       [ 1.30043304],\n",
       "       [ 0.16805348],\n",
       "       [-3.19016989],\n",
       "       [-2.08858151],\n",
       "       [-4.25960623],\n",
       "       [ 1.68647094],\n",
       "       [-0.9020576 ],\n",
       "       [-0.19105618],\n",
       "       [-4.20632725],\n",
       "       [ 4.52910794]])"
      ]
     },
     "execution_count": 9,
     "metadata": {},
     "output_type": "execute_result"
    }
   ],
   "source": [
    "x_train_lda"
   ]
  },
  {
   "cell_type": "code",
   "execution_count": 10,
   "id": "914c6f47-4bb5-4abf-8047-3b885880b50b",
   "metadata": {},
   "outputs": [
    {
     "data": {
      "text/plain": [
       "array([[-3.83960313],\n",
       "       [ 5.24601727],\n",
       "       [-0.66064228],\n",
       "       [-2.16667061],\n",
       "       [-0.16079996],\n",
       "       [-5.31374258],\n",
       "       [-4.78386714],\n",
       "       [ 5.55863966],\n",
       "       [-1.29772139],\n",
       "       [ 0.53068371],\n",
       "       [ 2.36900593],\n",
       "       [ 5.14502202],\n",
       "       [-5.27947032],\n",
       "       [-2.70452577],\n",
       "       [ 4.32314426],\n",
       "       [-0.65835601],\n",
       "       [-4.07332713],\n",
       "       [-6.55291385],\n",
       "       [ 2.40020179],\n",
       "       [-5.14219986],\n",
       "       [-2.46475469],\n",
       "       [-2.5190649 ],\n",
       "       [-1.79798575],\n",
       "       [-1.43423986],\n",
       "       [ 1.11433225],\n",
       "       [ 0.28604133],\n",
       "       [-1.21198193],\n",
       "       [ 0.84900431],\n",
       "       [-1.03105294],\n",
       "       [ 4.83489722],\n",
       "       [-4.75464421],\n",
       "       [-3.33786142],\n",
       "       [ 1.02045007],\n",
       "       [-3.1347464 ],\n",
       "       [-4.25385909],\n",
       "       [-3.16058359]])"
      ]
     },
     "execution_count": 10,
     "metadata": {},
     "output_type": "execute_result"
    }
   ],
   "source": [
    "x_test_lda"
   ]
  },
  {
   "cell_type": "code",
   "execution_count": 11,
   "id": "c1d05f6b-c11f-4a6d-bed8-d3e14f611225",
   "metadata": {},
   "outputs": [
    {
     "data": {
      "text/plain": [
       "LinearDiscriminantAnalysis(n_components=1)"
      ]
     },
     "execution_count": 11,
     "metadata": {},
     "output_type": "execute_result"
    }
   ],
   "source": [
    "lda"
   ]
  },
  {
   "cell_type": "code",
   "execution_count": 12,
   "id": "260ad615-5723-4151-8fe4-365a15f68694",
   "metadata": {},
   "outputs": [],
   "source": [
    "classifier,accuracy = decision(x_train_lda,y_train,x_test_lda,y_test)\n",
    "accdec.append(accuracy)"
   ]
  },
  {
   "cell_type": "code",
   "execution_count": 13,
   "id": "083a685f-a3f1-4069-8518-9acc962b01b5",
   "metadata": {},
   "outputs": [],
   "source": [
    "result = LDA_classification(accdec)"
   ]
  },
  {
   "cell_type": "code",
   "execution_count": 14,
   "id": "2f52b529-4385-4681-aac4-a4c6486403fb",
   "metadata": {},
   "outputs": [
    {
     "data": {
      "text/html": [
       "<div>\n",
       "<style scoped>\n",
       "    .dataframe tbody tr th:only-of-type {\n",
       "        vertical-align: middle;\n",
       "    }\n",
       "\n",
       "    .dataframe tbody tr th {\n",
       "        vertical-align: top;\n",
       "    }\n",
       "\n",
       "    .dataframe thead th {\n",
       "        text-align: right;\n",
       "    }\n",
       "</style>\n",
       "<table border=\"1\" class=\"dataframe\">\n",
       "  <thead>\n",
       "    <tr style=\"text-align: right;\">\n",
       "      <th></th>\n",
       "      <th>decision</th>\n",
       "    </tr>\n",
       "  </thead>\n",
       "  <tbody>\n",
       "    <tr>\n",
       "      <th>LDA</th>\n",
       "      <td>0.888889</td>\n",
       "    </tr>\n",
       "  </tbody>\n",
       "</table>\n",
       "</div>"
      ],
      "text/plain": [
       "     decision\n",
       "LDA  0.888889"
      ]
     },
     "execution_count": 14,
     "metadata": {},
     "output_type": "execute_result"
    }
   ],
   "source": [
    "result"
   ]
  },
  {
   "cell_type": "code",
   "execution_count": 15,
   "id": "6cba0e1b-1e4d-4013-a70b-204177d94de0",
   "metadata": {},
   "outputs": [],
   "source": [
    "filename = 'Finalized_Decisiontree_Model.sav'\n",
    "pickle.dump(classifier,open(filename,'wb'))"
   ]
  },
  {
   "cell_type": "code",
   "execution_count": 16,
   "id": "c152980b-5cca-4f43-83ba-b6f8b37de34a",
   "metadata": {},
   "outputs": [],
   "source": [
    "filenameSC = 'sc.pkl'\n",
    "pickle.dump(sc,open(filenameSC,'wb'))\n",
    "sc = pickle.load(open('sc.pkl','rb'))"
   ]
  },
  {
   "cell_type": "code",
   "execution_count": 17,
   "id": "1233b48f-381a-47ea-982c-6d7a98e9b89c",
   "metadata": {},
   "outputs": [],
   "source": [
    "filenameLDA = 'lda.pkl'\n",
    "pickle.dump(lda,open(filenameLDA,'wb'))\n",
    "lda = pickle.load(open('lda.pkl','rb'))"
   ]
  },
  {
   "cell_type": "code",
   "execution_count": 18,
   "id": "14cfbdd0-8327-49a0-9cbe-7dc8298250db",
   "metadata": {},
   "outputs": [
    {
     "data": {
      "text/plain": [
       "Index(['Alcohol', 'Malic_Acid', 'Ash', 'Ash_Alcanity', 'Magnesium',\n",
       "       'Total_Phenols', 'Flavanoids', 'Nonflavanoid_Phenols',\n",
       "       'Proanthocyanins', 'Color_Intensity', 'Hue', 'OD280', 'Proline',\n",
       "       'Customer_Segment'],\n",
       "      dtype='object')"
      ]
     },
     "execution_count": 18,
     "metadata": {},
     "output_type": "execute_result"
    }
   ],
   "source": [
    "df.columns"
   ]
  },
  {
   "cell_type": "code",
   "execution_count": 19,
   "id": "b2f9894c-adc7-4aba-a3d7-aef5b42b3d69",
   "metadata": {},
   "outputs": [],
   "source": [
    "User_input = ([[14.3,1.71,2.14,15.6,127,2.80,3.06,0.28,2.29,5.64,1.04,3.92,1050]])"
   ]
  },
  {
   "cell_type": "code",
   "execution_count": 20,
   "id": "fa972b4f-45e3-4bef-b500-983d97cd1e8d",
   "metadata": {},
   "outputs": [
    {
     "data": {
      "text/plain": [
       "array([[ 1.63508058, -0.59617626, -0.84433927, -1.15290415,  1.89709249,\n",
       "         0.88811832,  1.14228219, -0.65631245,  1.16092829,  0.25075241,\n",
       "         0.37819941,  1.85216556,  1.01637071]])"
      ]
     },
     "execution_count": 20,
     "metadata": {},
     "output_type": "execute_result"
    }
   ],
   "source": [
    "scaled_input = sc.transform(User_input)\n",
    "scaled_input     "
   ]
  },
  {
   "cell_type": "code",
   "execution_count": 21,
   "id": "27ddb785-0e61-42e3-a571-65caafd3fd43",
   "metadata": {},
   "outputs": [
    {
     "data": {
      "text/plain": [
       "array([[-5.26244343]])"
      ]
     },
     "execution_count": 21,
     "metadata": {},
     "output_type": "execute_result"
    }
   ],
   "source": [
    "lda_input = lda.transform(scaled_input)\n",
    "lda_input"
   ]
  },
  {
   "cell_type": "code",
   "execution_count": 22,
   "id": "10e9ba34-a702-40d2-b68c-02c6cde7cb8e",
   "metadata": {},
   "outputs": [],
   "source": [
    "loaded_model = pickle.load(open('Finalized_Decisiontree_Model.sav','rb'))\n",
    "Prediction = loaded_model.predict(lda_input)"
   ]
  },
  {
   "cell_type": "code",
   "execution_count": 23,
   "id": "a1f69795-7d07-45b8-a87a-23bf85a90a92",
   "metadata": {},
   "outputs": [
    {
     "data": {
      "text/plain": [
       "array([1], dtype=int64)"
      ]
     },
     "execution_count": 23,
     "metadata": {},
     "output_type": "execute_result"
    }
   ],
   "source": [
    "Prediction"
   ]
  }
 ],
 "metadata": {
  "kernelspec": {
   "display_name": "Python 3 (ipykernel)",
   "language": "python",
   "name": "python3"
  },
  "language_info": {
   "codemirror_mode": {
    "name": "ipython",
    "version": 3
   },
   "file_extension": ".py",
   "mimetype": "text/x-python",
   "name": "python",
   "nbconvert_exporter": "python",
   "pygments_lexer": "ipython3",
   "version": "3.7.1"
  }
 },
 "nbformat": 4,
 "nbformat_minor": 5
}
