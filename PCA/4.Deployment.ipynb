{
 "cells": [
  {
   "cell_type": "code",
   "execution_count": 1,
   "id": "2b7ca248",
   "metadata": {},
   "outputs": [],
   "source": [
    "import pickle"
   ]
  },
  {
   "cell_type": "code",
   "execution_count": 2,
   "id": "a68081ee",
   "metadata": {},
   "outputs": [],
   "source": [
    "sc = pickle.load(open('sc.pkl','rb'))"
   ]
  },
  {
   "cell_type": "code",
   "execution_count": 3,
   "id": "ce07f068",
   "metadata": {},
   "outputs": [],
   "source": [
    "pca = pickle.load(open('pca.pkl','rb'))"
   ]
  },
  {
   "cell_type": "code",
   "execution_count": 4,
   "id": "ece443f7",
   "metadata": {},
   "outputs": [],
   "source": [
    "user_input = ([[14.3,1.71,2.14,15.6,127,2.80,3.06,0.28,2.29,5.64,1.04,3.92,1050]])"
   ]
  },
  {
   "cell_type": "code",
   "execution_count": 5,
   "id": "f7a20129",
   "metadata": {},
   "outputs": [],
   "source": [
    "scaled_input = sc.transform(user_input)\n",
    "pca_input = pca.transform(scaled_input)"
   ]
  },
  {
   "cell_type": "code",
   "execution_count": 7,
   "id": "a56440ad",
   "metadata": {},
   "outputs": [],
   "source": [
    "loaded_model = pickle.load(open('Finalized_Naive_Model.sav','rb'))\n",
    "Prediction = loaded_model.predict(pca_input)"
   ]
  },
  {
   "cell_type": "code",
   "execution_count": 8,
   "id": "be9f09aa",
   "metadata": {},
   "outputs": [
    {
     "data": {
      "text/plain": [
       "array([1], dtype=int64)"
      ]
     },
     "execution_count": 8,
     "metadata": {},
     "output_type": "execute_result"
    }
   ],
   "source": [
    "Prediction"
   ]
  }
 ],
 "metadata": {
  "kernelspec": {
   "display_name": "Python 3 (ipykernel)",
   "language": "python",
   "name": "python3"
  },
  "language_info": {
   "codemirror_mode": {
    "name": "ipython",
    "version": 3
   },
   "file_extension": ".py",
   "mimetype": "text/x-python",
   "name": "python",
   "nbconvert_exporter": "python",
   "pygments_lexer": "ipython3",
   "version": "3.7.1"
  }
 },
 "nbformat": 4,
 "nbformat_minor": 5
}
