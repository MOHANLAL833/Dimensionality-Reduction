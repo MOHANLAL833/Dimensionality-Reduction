{
 "cells": [
  {
   "cell_type": "code",
   "execution_count": 1,
   "id": "c1f15677-aa02-4ba7-9996-ab5aec36cdcc",
   "metadata": {},
   "outputs": [],
   "source": [
    "import pickle"
   ]
  },
  {
   "cell_type": "code",
   "execution_count": 3,
   "id": "074f51ba-f0d9-4d33-8eb9-a7c8f7ee376e",
   "metadata": {},
   "outputs": [],
   "source": [
    "sc = pickle.load(open('sc.pkl','rb'))\n",
    "kpca = pickle.load(open('KPCA.pkl','rb'))"
   ]
  },
  {
   "cell_type": "code",
   "execution_count": 5,
   "id": "8b443d4a-0b43-4132-b4a7-47928888947e",
   "metadata": {},
   "outputs": [],
   "source": [
    "User_input = ([[5.0,76.58,3.0,0.0,148.11,57.48,6.25,154.3,5.25,12.56,52.0,7700,0,1,0,1,0,1,0,1,0,1,0,1,0,1,0]])"
   ]
  },
  {
   "cell_type": "code",
   "execution_count": 7,
   "id": "213ee3e5-b580-4bfc-b6c0-93a23070ec92",
   "metadata": {},
   "outputs": [
    {
     "name": "stderr",
     "output_type": "stream",
     "text": [
      "C:\\Users\\MOHANLAL\\anaconda3\\Lib\\site-packages\\sklearn\\utils\\validation.py:2739: UserWarning: X does not have valid feature names, but StandardScaler was fitted with feature names\n",
      "  warnings.warn(\n"
     ]
    },
    {
     "data": {
      "text/plain": [
       "array([[-2.89939466e+00, -3.59418284e-03,  1.70813011e+00,\n",
       "        -3.65008855e-01, -1.53315608e-02, -5.08082167e-02,\n",
       "         5.52477536e-01,  1.70735356e+00,  3.37552164e-01,\n",
       "         4.29417851e-02,  1.61244852e+00, -2.40918855e-01,\n",
       "        -5.61639544e+00,  2.05657682e+00, -5.15628758e-01,\n",
       "         2.12132034e+00, -1.26188616e-01,  3.73210014e-01,\n",
       "        -2.05657682e+00,  3.04800305e+00, -2.37258068e-01,\n",
       "         1.31396184e+00, -7.40637353e-01,  3.28858857e+00,\n",
       "        -1.97678838e+00,  1.93937981e+00, -4.36232172e-01]])"
      ]
     },
     "execution_count": 7,
     "metadata": {},
     "output_type": "execute_result"
    }
   ],
   "source": [
    "scaled_input = sc.transform(User_input)\n",
    "scaled_input  "
   ]
  },
  {
   "cell_type": "code",
   "execution_count": 9,
   "id": "0b8e0484-f0ea-447f-8dc2-5414315651f0",
   "metadata": {},
   "outputs": [
    {
     "data": {
      "text/plain": [
       "array([[-0.35589373,  0.2167403 ]])"
      ]
     },
     "execution_count": 9,
     "metadata": {},
     "output_type": "execute_result"
    }
   ],
   "source": [
    "kpca_input = kpca.transform(scaled_input)\n",
    "kpca_input"
   ]
  },
  {
   "cell_type": "code",
   "execution_count": 11,
   "id": "264c96d8-24f8-4ef8-977f-165abeb69bdc",
   "metadata": {},
   "outputs": [],
   "source": [
    "loaded_model = pickle.load(open('Finalized_SVMnl_Model.sav','rb'))\n",
    "Prediction = loaded_model.predict(kpca_input)"
   ]
  },
  {
   "cell_type": "code",
   "execution_count": 13,
   "id": "0f65076a-9be6-45bf-99d7-b50fe9c6c491",
   "metadata": {},
   "outputs": [
    {
     "data": {
      "text/plain": [
       "array([1])"
      ]
     },
     "execution_count": 13,
     "metadata": {},
     "output_type": "execute_result"
    }
   ],
   "source": [
    "Prediction"
   ]
  }
 ],
 "metadata": {
  "kernelspec": {
   "display_name": "Python 3 (ipykernel)",
   "language": "python",
   "name": "python3"
  },
  "language_info": {
   "codemirror_mode": {
    "name": "ipython",
    "version": 3
   },
   "file_extension": ".py",
   "mimetype": "text/x-python",
   "name": "python",
   "nbconvert_exporter": "python",
   "pygments_lexer": "ipython3",
   "version": "3.12.4"
  }
 },
 "nbformat": 4,
 "nbformat_minor": 5
}
