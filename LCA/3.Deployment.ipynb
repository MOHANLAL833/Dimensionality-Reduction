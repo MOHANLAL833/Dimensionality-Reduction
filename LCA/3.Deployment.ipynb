{
 "cells": [
  {
   "cell_type": "code",
   "execution_count": 1,
   "id": "442e4343-d585-4abe-941a-cd5e458afc03",
   "metadata": {},
   "outputs": [],
   "source": [
    "import pickle"
   ]
  },
  {
   "cell_type": "code",
   "execution_count": 3,
   "id": "675f0692-c3eb-4801-93e3-ea528c36e48b",
   "metadata": {},
   "outputs": [],
   "source": [
    "sc = pickle.load(open('sc.pkl','rb'))"
   ]
  },
  {
   "cell_type": "code",
   "execution_count": 6,
   "id": "06488d13-5d1b-450e-9a96-68a6175cd3de",
   "metadata": {},
   "outputs": [],
   "source": [
    "lda = pickle.load(open('lda.pkl','rb')                 )"
   ]
  },
  {
   "cell_type": "code",
   "execution_count": 8,
   "id": "6bd9ec62-fd0c-4243-879b-03f93a2b3d36",
   "metadata": {},
   "outputs": [],
   "source": [
    "User_input = ([[5.0,76.58,3.0,0.0,148.11,57.48,6.25,154.3,5.25,12.56,52.0,7700,0,1,0,1,0,1,0,1,0,1,0,1,0,1,0]])"
   ]
  },
  {
   "cell_type": "code",
   "execution_count": 10,
   "id": "cbd3904e-1005-47fe-8ee1-4b85c2c2f233",
   "metadata": {},
   "outputs": [
    {
     "name": "stderr",
     "output_type": "stream",
     "text": [
      "C:\\Users\\MOHANLAL\\anaconda3\\Lib\\site-packages\\sklearn\\utils\\validation.py:2739: UserWarning: X does not have valid feature names, but StandardScaler was fitted with feature names\n",
      "  warnings.warn(\n"
     ]
    },
    {
     "data": {
      "text/plain": [
       "array([[-2.89939466e+00, -3.59418284e-03,  1.70813011e+00,\n",
       "        -3.65008855e-01, -1.53315608e-02, -5.08082167e-02,\n",
       "         5.52477536e-01,  1.70735356e+00,  3.37552164e-01,\n",
       "         4.29417851e-02,  1.61244852e+00, -2.40918855e-01,\n",
       "        -5.61639544e+00,  2.05657682e+00, -5.15628758e-01,\n",
       "         2.12132034e+00, -1.26188616e-01,  3.73210014e-01,\n",
       "        -2.05657682e+00,  3.04800305e+00, -2.37258068e-01,\n",
       "         1.31396184e+00, -7.40637353e-01,  3.28858857e+00,\n",
       "        -1.97678838e+00,  1.93937981e+00, -4.36232172e-01]])"
      ]
     },
     "execution_count": 10,
     "metadata": {},
     "output_type": "execute_result"
    }
   ],
   "source": [
    "\n",
    "scaled_input = sc.transform(User_input)\n",
    "scaled_input"
   ]
  },
  {
   "cell_type": "code",
   "execution_count": 12,
   "id": "2f1976ea-8ce3-473c-908e-e7bf79e4b655",
   "metadata": {},
   "outputs": [
    {
     "data": {
      "text/plain": [
       "array([[-0.22496028]])"
      ]
     },
     "execution_count": 12,
     "metadata": {},
     "output_type": "execute_result"
    }
   ],
   "source": [
    "lda_input = lda.transform(scaled_input)\n",
    "lda_input"
   ]
  },
  {
   "cell_type": "code",
   "execution_count": 14,
   "id": "4a1db052-b447-4f92-9201-0b2db59d5b30",
   "metadata": {},
   "outputs": [],
   "source": [
    "loaded_model = pickle.load(open('Finalized_Logistic_Model.sav','rb'))\n",
    "Prediction = loaded_model.predict(lda_input)"
   ]
  },
  {
   "cell_type": "code",
   "execution_count": 16,
   "id": "f19d5980-46c0-4fb9-98eb-a50a0ce2ae09",
   "metadata": {},
   "outputs": [
    {
     "data": {
      "text/plain": [
       "array([1])"
      ]
     },
     "execution_count": 16,
     "metadata": {},
     "output_type": "execute_result"
    }
   ],
   "source": [
    "Prediction"
   ]
  }
 ],
 "metadata": {
  "kernelspec": {
   "display_name": "Python 3 (ipykernel)",
   "language": "python",
   "name": "python3"
  },
  "language_info": {
   "codemirror_mode": {
    "name": "ipython",
    "version": 3
   },
   "file_extension": ".py",
   "mimetype": "text/x-python",
   "name": "python",
   "nbconvert_exporter": "python",
   "pygments_lexer": "ipython3",
   "version": "3.12.4"
  }
 },
 "nbformat": 4,
 "nbformat_minor": 5
}
